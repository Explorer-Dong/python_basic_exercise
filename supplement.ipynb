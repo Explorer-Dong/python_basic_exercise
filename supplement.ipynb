{
 "cells": [
  {
   "cell_type": "code",
   "execution_count": 1,
   "outputs": [
    {
     "name": "stdout",
     "output_type": "stream",
     "text": [
      "HelloWorld\n",
      "HelloWorld\n"
     ]
    }
   ],
   "source": [
    "def my_func(s):\n",
    "    # 在字符串 s 中插入空格\n",
    "    s = s[:5] + ' ' + s[5:]\n",
    "\n",
    "if __name__ == '__main__':\n",
    "    s = 'HelloWorld'\n",
    "    print(s)  # 输出：HelloWorld\n",
    "    # 将字符串传递给函数进行修改\n",
    "    my_func(s)\n",
    "    # 输出结果\n",
    "    print(s)  # 仍然输出：HelloWorld"
   ],
   "metadata": {
    "collapsed": false,
    "ExecuteTime": {
     "end_time": "2023-05-24T11:36:35.140751600Z",
     "start_time": "2023-05-24T11:36:35.118681Z"
    }
   }
  },
  {
   "cell_type": "markdown",
   "source": [
    "貌似有点搞懂了python中函数参数传递的尿性了（不是），就是有这么些个不可变类型，所有的数据，比如整数（int）、浮 点数(float)和布尔数(bool)，以及两个数据类型，字符串（str）和元组（tuple），这五个都是不可变的，即使作为函 数参数传递进去并且做了修改，返回的都是一个新的对象。需要注意的是，python中所有的函数参数的传递都是引用。"
   ],
   "metadata": {
    "collapsed": false
   }
  },
  {
   "cell_type": "code",
   "execution_count": null,
   "outputs": [],
   "source": [
    "from typing import Tuple\n",
    "\n",
    "def calculate_average(nums: Tuple[int, ...]) -> float:\n",
    "    return sum(nums) / len(nums)\n",
    "\n",
    "nums = (1, 2, 3, 4, 5)\n",
    "average = calculate_average(nums)\n",
    "print(f\"The average of numbers {nums} is {average}\")"
   ],
   "metadata": {
    "collapsed": false
   }
  },
  {
   "cell_type": "markdown",
   "source": [
    "从python3.5开始引入了Type Hinting特性，可以进行函数参数类型以及返回值类型的标注，比如这句话def calculate_average(numbers: List[int]) -> float:``numbers传递一个列表进来，同时标出来每一个元素的数据类型是整数，同时返回值是浮点数，最终目的是为了代码的可读性与可维护性，注意需要引入一个库from typing import List"
   ],
   "metadata": {
    "collapsed": false
   }
  },
  {
   "cell_type": "code",
   "execution_count": 1,
   "outputs": [],
   "source": [
    "# def Concat(s1: str, s2: str) -> str:"
   ],
   "metadata": {
    "collapsed": false,
    "ExecuteTime": {
     "end_time": "2023-05-24T12:52:00.446953400Z",
     "start_time": "2023-05-24T12:52:00.442232400Z"
    }
   }
  },
  {
   "cell_type": "markdown",
   "source": [],
   "metadata": {
    "collapsed": false
   }
  },
  {
   "cell_type": "markdown",
   "source": [
    "AnyStr是一种类型注释，用于表示字符串对象类型。它可以用来指示一个变量或函数参数可以接受任何字符串类型，包括普通字符串、字节串或Unicode字符串"
   ],
   "metadata": {
    "collapsed": false
   }
  },
  {
   "cell_type": "code",
   "execution_count": 2,
   "outputs": [
    {
     "name": "stdout",
     "output_type": "stream",
     "text": [
      "23\n",
      " 2 3"
     ]
    }
   ],
   "source": [
    "s = input(\"请输入一个字符串：\")\n",
    "ch = input(\"请输入想要删除的字符：\")\n",
    "print(*[c if c != ch else '' for c in s], sep='')\n",
    "print(*[c if c != ch else '' for c in s], end='')"
   ],
   "metadata": {
    "collapsed": false,
    "ExecuteTime": {
     "end_time": "2023-05-24T11:39:51.199906700Z",
     "start_time": "2023-05-24T11:39:47.162481800Z"
    }
   }
  },
  {
   "cell_type": "markdown",
   "source": [
    "第一句输出有换行但是没有分隔符\n",
    "第二句输出没有换行但是有空格分隔符"
   ],
   "metadata": {
    "collapsed": false
   }
  },
  {
   "cell_type": "markdown",
   "source": [
    "---\n",
    "- str.split()返回的是一个列表，其中的元素是split中自定义分割开来的元素\n",
    "- 在不需要修改线性表中元素时，尽量使用元组而非列表，速度大约是列表的三倍"
   ],
   "metadata": {
    "collapsed": false
   }
  },
  {
   "cell_type": "code",
   "execution_count": 4,
   "outputs": [
    {
     "name": "stdout",
     "output_type": "stream",
     "text": [
      "1 0\n"
     ]
    }
   ],
   "source": [
    "from typing import Tuple\n",
    "\n",
    "def f(nums: Tuple) -> int:\n",
    "    return nums.index(min(filter(lambda x : x > 0, nums)))\n",
    "\n",
    "if __name__ == '__main__':\n",
    "    m, n = map(int, input().split())\n",
    "    a = tuple(map(int, input().split()))\n",
    "    b = tuple(map(int, input().split()))\n",
    "    print(f(a), f(b))"
   ],
   "metadata": {
    "collapsed": false,
    "ExecuteTime": {
     "end_time": "2023-05-24T12:26:56.456613500Z",
     "start_time": "2023-05-24T12:26:43.452443400Z"
    }
   }
  },
  {
   "cell_type": "markdown",
   "source": [
    "- 注意将读入的字符串解包存入元组的写法\n",
    "- 注意`Type Hunting`中整数类型是`int`\n",
    "- 线性表一般都有下标索引函数`line.index(num)`\n",
    "- `filter`函数是用来筛掉一个可变线性表中指定的元素的，其中有两个参数，一个是函数，一个是线性表，`filter`会依次将其中的元素放入第一参数函数进行判断，如果函数返回`True`，则将这个元素放入新的列表，如果返回`False`则跳过这个元素，最终返回一个列表\n",
    "- `lambda`函数用法：lambda 参数: 表达式"
   ],
   "metadata": {
    "collapsed": false
   }
  }
 ],
 "metadata": {
  "kernelspec": {
   "display_name": "Python 3",
   "language": "python",
   "name": "python3"
  },
  "language_info": {
   "codemirror_mode": {
    "name": "ipython",
    "version": 2
   },
   "file_extension": ".py",
   "mimetype": "text/x-python",
   "name": "python",
   "nbconvert_exporter": "python",
   "pygments_lexer": "ipython2",
   "version": "2.7.6"
  }
 },
 "nbformat": 4,
 "nbformat_minor": 0
}
