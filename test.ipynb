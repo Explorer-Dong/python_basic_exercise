{
 "cells": [
  {
   "cell_type": "code",
   "execution_count": 31,
   "outputs": [
    {
     "name": "stdout",
     "output_type": "stream",
     "text": [
      "HelloWorld\n",
      "HelloWorld\n"
     ]
    }
   ],
   "source": [
    "def my_func(s):\n",
    "    # 在字符串 s 中插入空格\n",
    "    s = s[:5] + ' ' + s[5:]\n",
    "\n",
    "if __name__ == '__main__':\n",
    "    s = 'HelloWorld'\n",
    "    print(s)  # 输出：HelloWorld\n",
    "    # 将字符串传递给函数进行修改\n",
    "    my_func(s)\n",
    "    # 输出结果\n",
    "    print(s)  # 仍然输出：HelloWorld"
   ],
   "metadata": {
    "collapsed": false,
    "ExecuteTime": {
     "end_time": "2023-05-21T02:06:33.309617300Z",
     "start_time": "2023-05-21T02:06:33.293619700Z"
    }
   }
  },
  {
   "cell_type": "markdown",
   "source": [
    "貌似有点搞懂了python中函数参数传递的尿性了（不是），就是有这么些个不可变类型，所有的数据，比如整数（int）、浮\n",
    "点数(float)和布尔数(bool)，以及两个数据类型，字符串（str）和元组（tuple），这五个都是不可变的，即使作为函\n",
    "数参数传递进去并且做了修改，返回的都是一个新的对象。需要注意的是，python中所有的函数参数的1传递都是引用。"
   ],
   "metadata": {
    "collapsed": false
   }
  },
  {
   "cell_type": "code",
   "execution_count": 30,
   "outputs": [
    {
     "name": "stdout",
     "output_type": "stream",
     "text": [
      "The average of numbers (1, 2, 3, 4, 5) is 3.0\n"
     ]
    }
   ],
   "source": [
    "from typing import Tuple\n",
    "\n",
    "def calculate_average(nums: Tuple[int, ...]) -> float:\n",
    "    return sum(nums) / len(nums)\n",
    "\n",
    "nums = (1, 2, 3, 4, 5)\n",
    "average = calculate_average(nums)\n",
    "print(f\"The average of numbers {nums} is {average}\")"
   ],
   "metadata": {
    "collapsed": false,
    "ExecuteTime": {
     "end_time": "2023-05-21T02:05:39.247023600Z",
     "start_time": "2023-05-21T02:05:38.924818700Z"
    }
   }
  },
  {
   "cell_type": "markdown",
   "source": [
    "从`python3.5`开始引入了`Type Hinting`特性，可以进行函数参数类型以及返回值类型的标注，\n",
    "比如这句话`def calculate_average(numbers: List[int]) -> float:`\n",
    "`numbers`传递一个列表进来，同时标出来每一个元素的数据类型是整数，同时返回值是浮点数，最终目的是为了代码的可读性\n",
    "与可维护性，注意需要引入一个库from typing import List"
   ],
   "metadata": {
    "collapsed": false
   }
  },
  {
   "cell_type": "markdown",
   "source": [],
   "metadata": {
    "collapsed": false
   }
  }
 ],
 "metadata": {
  "kernelspec": {
   "display_name": "Python 3",
   "language": "python",
   "name": "python3"
  },
  "language_info": {
   "codemirror_mode": {
    "name": "ipython",
    "version": 2
   },
   "file_extension": ".py",
   "mimetype": "text/x-python",
   "name": "python",
   "nbconvert_exporter": "python",
   "pygments_lexer": "ipython2",
   "version": "2.7.6"
  }
 },
 "nbformat": 4,
 "nbformat_minor": 0
}
